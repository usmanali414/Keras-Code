{
  "nbformat": 4,
  "nbformat_minor": 0,
  "metadata": {
    "colab": {
      "name": "Beginners Keras Mnist Classification using Convolutional neural network(CNN) Part 1.ipynb",
      "provenance": [],
      "collapsed_sections": []
    },
    "kernelspec": {
      "name": "python3",
      "display_name": "Python 3"
    },
    "accelerator": "GPU"
  },
  "cells": [
    {
      "cell_type": "code",
      "metadata": {
        "id": "l2fSXMmre2nc",
        "colab_type": "code",
        "colab": {
          "base_uri": "https://localhost:8080/",
          "height": 35
        },
        "outputId": "e8d7f0e0-8fa8-4c3e-88f8-b594891337ec"
      },
      "source": [
        "#Importing some Important Keras modules or libraries\n",
        "import keras\n",
        "from keras.models import Sequential\n",
        "from keras.datasets import mnist\n",
        "from keras.layers.core import Dense, Dropout, Activation, Flatten\n",
        "from keras.layers.convolutional import Convolution2D, MaxPooling2D\n",
        "from sklearn.model_selection import train_test_split\n",
        "import pandas as pd\n",
        "import numpy as np"
      ],
      "execution_count": 1,
      "outputs": [
        {
          "output_type": "stream",
          "text": [
            "Using TensorFlow backend.\n"
          ],
          "name": "stderr"
        }
      ]
    },
    {
      "cell_type": "code",
      "metadata": {
        "id": "VbmIEYQde6Y8",
        "colab_type": "code",
        "colab": {}
      },
      "source": [
        "#Loading Dataset\n",
        "(x_train, y_train), (x_test, y_test) = mnist.load_data()"
      ],
      "execution_count": 0,
      "outputs": []
    },
    {
      "cell_type": "code",
      "metadata": {
        "id": "97P70HyKfKVz",
        "colab_type": "code",
        "colab": {
          "base_uri": "https://localhost:8080/",
          "height": 52
        },
        "outputId": "d5d87dfc-b73c-4c98-ffcf-c6b033c98382"
      },
      "source": [
        "print(x_train.shape,y_train.shape)\n",
        "print(x_test.shape,y_test.shape)"
      ],
      "execution_count": 11,
      "outputs": [
        {
          "output_type": "stream",
          "text": [
            "(60000, 28, 28) (60000,)\n",
            "(10000, 28, 28) (10000,)\n"
          ],
          "name": "stdout"
        }
      ]
    },
    {
      "cell_type": "code",
      "metadata": {
        "id": "s-eo5XBWm_7U",
        "colab_type": "code",
        "colab": {}
      },
      "source": [
        "x_train = np.expand_dims(x_train,axis=-1)\n",
        "x_test = np.expand_dims(x_test,axis=-1)"
      ],
      "execution_count": 0,
      "outputs": []
    },
    {
      "cell_type": "code",
      "metadata": {
        "id": "dHHk2YZynRoT",
        "colab_type": "code",
        "colab": {}
      },
      "source": [
        "#Converting labels into one hot encoded vectors\n",
        "num_classes = 10\n",
        "y_train = keras.utils.to_categorical(y_train, num_classes)\n",
        "y_test = keras.utils.to_categorical(y_test, num_classes)"
      ],
      "execution_count": 0,
      "outputs": []
    },
    {
      "cell_type": "code",
      "metadata": {
        "colab_type": "code",
        "outputId": "b2288661-0a3a-4408-b29c-e4e106a1e780",
        "id": "LMbWBjuj0HdP",
        "colab": {
          "base_uri": "https://localhost:8080/",
          "height": 52
        }
      },
      "source": [
        "print(x_train.shape,y_train.shape)\n",
        "print(x_test.shape,y_test.shape)"
      ],
      "execution_count": 14,
      "outputs": [
        {
          "output_type": "stream",
          "text": [
            "(60000, 28, 28, 1) (60000, 10)\n",
            "(10000, 28, 28, 1) (10000, 10)\n"
          ],
          "name": "stdout"
        }
      ]
    },
    {
      "cell_type": "code",
      "metadata": {
        "id": "Tq5RpkTTgLpg",
        "colab_type": "code",
        "colab": {}
      },
      "source": [
        "#Preprocessing the data \n",
        "x_train = x_train.astype('float32')\n",
        "x_test = x_test.astype('float32')\n",
        "x_train /= 255\n",
        "x_test /= 255"
      ],
      "execution_count": 0,
      "outputs": []
    },
    {
      "cell_type": "markdown",
      "metadata": {
        "id": "Jx3QiESDNo_g",
        "colab_type": "text"
      },
      "source": [
        "# **Without Callbacks training**"
      ]
    },
    {
      "cell_type": "code",
      "metadata": {
        "id": "yqExh9z7fODO",
        "colab_type": "code",
        "colab": {}
      },
      "source": [
        "#CNN model\n",
        "model = Sequential()\n",
        "model.add(Convolution2D(32,3,data_format='channels_last',activation='relu',input_shape=(28,28,1)))\n",
        "model.add(MaxPooling2D(pool_size=(2,2)))\n",
        "model.add(Flatten())\n",
        "model.add(Dense(32))\n",
        "model.add(Dropout(0.5))\n",
        "model.add(Dense(10))   \n",
        "model.add(Activation('softmax'))\n",
        "model.compile(loss='categorical_crossentropy', optimizer = 'adam', metrics = ['accuracy'])"
      ],
      "execution_count": 0,
      "outputs": []
    },
    {
      "cell_type": "code",
      "metadata": {
        "id": "y0rcitKvhgqH",
        "colab_type": "code",
        "colab": {
          "base_uri": "https://localhost:8080/",
          "height": 1000
        },
        "outputId": "c34a7645-b73a-403d-d868-3b7a785d6b99"
      },
      "source": [
        "#training without callbacks\n",
        "history = model.fit(x_train,y_train,validation_split=0.2 , batch_size=256,epochs=100)"
      ],
      "execution_count": 18,
      "outputs": [
        {
          "output_type": "stream",
          "text": [
            "Train on 48000 samples, validate on 12000 samples\n",
            "Epoch 1/100\n",
            "48000/48000 [==============================] - 2s 48us/step - loss: 0.5691 - accuracy: 0.8315 - val_loss: 0.1654 - val_accuracy: 0.9566\n",
            "Epoch 2/100\n",
            "48000/48000 [==============================] - 2s 43us/step - loss: 0.2233 - accuracy: 0.9366 - val_loss: 0.1046 - val_accuracy: 0.9720\n",
            "Epoch 3/100\n",
            "48000/48000 [==============================] - 2s 42us/step - loss: 0.1611 - accuracy: 0.9549 - val_loss: 0.0887 - val_accuracy: 0.9758\n",
            "Epoch 4/100\n",
            "48000/48000 [==============================] - 2s 42us/step - loss: 0.1369 - accuracy: 0.9609 - val_loss: 0.0777 - val_accuracy: 0.9769\n",
            "Epoch 5/100\n",
            "48000/48000 [==============================] - 2s 43us/step - loss: 0.1196 - accuracy: 0.9650 - val_loss: 0.0708 - val_accuracy: 0.9793\n",
            "Epoch 6/100\n",
            "48000/48000 [==============================] - 2s 43us/step - loss: 0.1109 - accuracy: 0.9676 - val_loss: 0.0671 - val_accuracy: 0.9810\n",
            "Epoch 7/100\n",
            "48000/48000 [==============================] - 2s 43us/step - loss: 0.1009 - accuracy: 0.9707 - val_loss: 0.0652 - val_accuracy: 0.9823\n",
            "Epoch 8/100\n",
            "48000/48000 [==============================] - 2s 42us/step - loss: 0.0957 - accuracy: 0.9715 - val_loss: 0.0637 - val_accuracy: 0.9818\n",
            "Epoch 9/100\n",
            "48000/48000 [==============================] - 2s 43us/step - loss: 0.0894 - accuracy: 0.9730 - val_loss: 0.0606 - val_accuracy: 0.9823\n",
            "Epoch 10/100\n",
            "48000/48000 [==============================] - 2s 42us/step - loss: 0.0830 - accuracy: 0.9750 - val_loss: 0.0607 - val_accuracy: 0.9818\n",
            "Epoch 11/100\n",
            "48000/48000 [==============================] - 2s 42us/step - loss: 0.0758 - accuracy: 0.9773 - val_loss: 0.0598 - val_accuracy: 0.9831\n",
            "Epoch 12/100\n",
            "48000/48000 [==============================] - 2s 42us/step - loss: 0.0767 - accuracy: 0.9767 - val_loss: 0.0586 - val_accuracy: 0.9831\n",
            "Epoch 13/100\n",
            "48000/48000 [==============================] - 2s 42us/step - loss: 0.0703 - accuracy: 0.9787 - val_loss: 0.0598 - val_accuracy: 0.9838\n",
            "Epoch 14/100\n",
            "48000/48000 [==============================] - 2s 42us/step - loss: 0.0685 - accuracy: 0.9788 - val_loss: 0.0597 - val_accuracy: 0.9829\n",
            "Epoch 15/100\n",
            "48000/48000 [==============================] - 2s 42us/step - loss: 0.0643 - accuracy: 0.9806 - val_loss: 0.0622 - val_accuracy: 0.9827\n",
            "Epoch 16/100\n",
            "48000/48000 [==============================] - 2s 42us/step - loss: 0.0623 - accuracy: 0.9809 - val_loss: 0.0577 - val_accuracy: 0.9835\n",
            "Epoch 17/100\n",
            "48000/48000 [==============================] - 2s 42us/step - loss: 0.0587 - accuracy: 0.9817 - val_loss: 0.0564 - val_accuracy: 0.9837\n",
            "Epoch 18/100\n",
            "48000/48000 [==============================] - 2s 42us/step - loss: 0.0569 - accuracy: 0.9824 - val_loss: 0.0563 - val_accuracy: 0.9844\n",
            "Epoch 19/100\n",
            "48000/48000 [==============================] - 2s 42us/step - loss: 0.0546 - accuracy: 0.9830 - val_loss: 0.0606 - val_accuracy: 0.9833\n",
            "Epoch 20/100\n",
            "48000/48000 [==============================] - 2s 42us/step - loss: 0.0520 - accuracy: 0.9841 - val_loss: 0.0577 - val_accuracy: 0.9844\n",
            "Epoch 21/100\n",
            "48000/48000 [==============================] - 2s 42us/step - loss: 0.0505 - accuracy: 0.9839 - val_loss: 0.0582 - val_accuracy: 0.9837\n",
            "Epoch 22/100\n",
            "48000/48000 [==============================] - 2s 42us/step - loss: 0.0526 - accuracy: 0.9831 - val_loss: 0.0569 - val_accuracy: 0.9843\n",
            "Epoch 23/100\n",
            "48000/48000 [==============================] - 2s 42us/step - loss: 0.0476 - accuracy: 0.9855 - val_loss: 0.0582 - val_accuracy: 0.9841\n",
            "Epoch 24/100\n",
            "48000/48000 [==============================] - 2s 41us/step - loss: 0.0458 - accuracy: 0.9858 - val_loss: 0.0596 - val_accuracy: 0.9835\n",
            "Epoch 25/100\n",
            "48000/48000 [==============================] - 2s 41us/step - loss: 0.0455 - accuracy: 0.9854 - val_loss: 0.0555 - val_accuracy: 0.9854\n",
            "Epoch 26/100\n",
            "48000/48000 [==============================] - 2s 41us/step - loss: 0.0413 - accuracy: 0.9865 - val_loss: 0.0589 - val_accuracy: 0.9841\n",
            "Epoch 27/100\n",
            "48000/48000 [==============================] - 2s 41us/step - loss: 0.0409 - accuracy: 0.9871 - val_loss: 0.0605 - val_accuracy: 0.9837\n",
            "Epoch 28/100\n",
            "48000/48000 [==============================] - 2s 41us/step - loss: 0.0376 - accuracy: 0.9882 - val_loss: 0.0597 - val_accuracy: 0.9839\n",
            "Epoch 29/100\n",
            "48000/48000 [==============================] - 2s 41us/step - loss: 0.0369 - accuracy: 0.9880 - val_loss: 0.0594 - val_accuracy: 0.9846\n",
            "Epoch 30/100\n",
            "48000/48000 [==============================] - 2s 42us/step - loss: 0.0395 - accuracy: 0.9874 - val_loss: 0.0603 - val_accuracy: 0.9837\n",
            "Epoch 31/100\n",
            "48000/48000 [==============================] - 2s 41us/step - loss: 0.0366 - accuracy: 0.9879 - val_loss: 0.0582 - val_accuracy: 0.9843\n",
            "Epoch 32/100\n",
            "48000/48000 [==============================] - 2s 42us/step - loss: 0.0356 - accuracy: 0.9891 - val_loss: 0.0593 - val_accuracy: 0.9848\n",
            "Epoch 33/100\n",
            "48000/48000 [==============================] - 2s 41us/step - loss: 0.0343 - accuracy: 0.9892 - val_loss: 0.0607 - val_accuracy: 0.9847\n",
            "Epoch 34/100\n",
            "48000/48000 [==============================] - 2s 41us/step - loss: 0.0323 - accuracy: 0.9902 - val_loss: 0.0591 - val_accuracy: 0.9843\n",
            "Epoch 35/100\n",
            "48000/48000 [==============================] - 2s 41us/step - loss: 0.0311 - accuracy: 0.9899 - val_loss: 0.0633 - val_accuracy: 0.9837\n",
            "Epoch 36/100\n",
            "48000/48000 [==============================] - 2s 41us/step - loss: 0.0299 - accuracy: 0.9900 - val_loss: 0.0618 - val_accuracy: 0.9844\n",
            "Epoch 37/100\n",
            "48000/48000 [==============================] - 2s 42us/step - loss: 0.0281 - accuracy: 0.9908 - val_loss: 0.0631 - val_accuracy: 0.9841\n",
            "Epoch 38/100\n",
            "48000/48000 [==============================] - 2s 42us/step - loss: 0.0290 - accuracy: 0.9902 - val_loss: 0.0630 - val_accuracy: 0.9837\n",
            "Epoch 39/100\n",
            "48000/48000 [==============================] - 2s 41us/step - loss: 0.0277 - accuracy: 0.9907 - val_loss: 0.0657 - val_accuracy: 0.9837\n",
            "Epoch 40/100\n",
            "48000/48000 [==============================] - 2s 42us/step - loss: 0.0266 - accuracy: 0.9914 - val_loss: 0.0674 - val_accuracy: 0.9833\n",
            "Epoch 41/100\n",
            "48000/48000 [==============================] - 2s 42us/step - loss: 0.0266 - accuracy: 0.9914 - val_loss: 0.0634 - val_accuracy: 0.9849\n",
            "Epoch 42/100\n",
            "48000/48000 [==============================] - 2s 41us/step - loss: 0.0254 - accuracy: 0.9913 - val_loss: 0.0624 - val_accuracy: 0.9847\n",
            "Epoch 43/100\n",
            "48000/48000 [==============================] - 2s 41us/step - loss: 0.0251 - accuracy: 0.9916 - val_loss: 0.0685 - val_accuracy: 0.9847\n",
            "Epoch 44/100\n",
            "48000/48000 [==============================] - 2s 41us/step - loss: 0.0251 - accuracy: 0.9918 - val_loss: 0.0663 - val_accuracy: 0.9843\n",
            "Epoch 45/100\n",
            "48000/48000 [==============================] - 2s 41us/step - loss: 0.0223 - accuracy: 0.9925 - val_loss: 0.0700 - val_accuracy: 0.9836\n",
            "Epoch 46/100\n",
            "48000/48000 [==============================] - 2s 41us/step - loss: 0.0230 - accuracy: 0.9925 - val_loss: 0.0649 - val_accuracy: 0.9847\n",
            "Epoch 47/100\n",
            "48000/48000 [==============================] - 2s 42us/step - loss: 0.0210 - accuracy: 0.9930 - val_loss: 0.0695 - val_accuracy: 0.9831\n",
            "Epoch 48/100\n",
            "48000/48000 [==============================] - 2s 41us/step - loss: 0.0214 - accuracy: 0.9927 - val_loss: 0.0720 - val_accuracy: 0.9837\n",
            "Epoch 49/100\n",
            "48000/48000 [==============================] - 2s 41us/step - loss: 0.0202 - accuracy: 0.9933 - val_loss: 0.0727 - val_accuracy: 0.9840\n",
            "Epoch 50/100\n",
            "48000/48000 [==============================] - 2s 41us/step - loss: 0.0216 - accuracy: 0.9926 - val_loss: 0.0690 - val_accuracy: 0.9832\n",
            "Epoch 51/100\n",
            "48000/48000 [==============================] - 2s 41us/step - loss: 0.0213 - accuracy: 0.9924 - val_loss: 0.0726 - val_accuracy: 0.9839\n",
            "Epoch 52/100\n",
            "48000/48000 [==============================] - 2s 41us/step - loss: 0.0199 - accuracy: 0.9938 - val_loss: 0.0705 - val_accuracy: 0.9833\n",
            "Epoch 53/100\n",
            "48000/48000 [==============================] - 2s 41us/step - loss: 0.0199 - accuracy: 0.9934 - val_loss: 0.0721 - val_accuracy: 0.9843\n",
            "Epoch 54/100\n",
            "48000/48000 [==============================] - 2s 41us/step - loss: 0.0184 - accuracy: 0.9938 - val_loss: 0.0706 - val_accuracy: 0.9843\n",
            "Epoch 55/100\n",
            "48000/48000 [==============================] - 2s 41us/step - loss: 0.0194 - accuracy: 0.9937 - val_loss: 0.0719 - val_accuracy: 0.9831\n",
            "Epoch 56/100\n",
            "48000/48000 [==============================] - 2s 41us/step - loss: 0.0180 - accuracy: 0.9939 - val_loss: 0.0714 - val_accuracy: 0.9839\n",
            "Epoch 57/100\n",
            "48000/48000 [==============================] - 2s 41us/step - loss: 0.0185 - accuracy: 0.9937 - val_loss: 0.0743 - val_accuracy: 0.9836\n",
            "Epoch 58/100\n",
            "48000/48000 [==============================] - 2s 41us/step - loss: 0.0171 - accuracy: 0.9941 - val_loss: 0.0778 - val_accuracy: 0.9835\n",
            "Epoch 59/100\n",
            "48000/48000 [==============================] - 2s 41us/step - loss: 0.0173 - accuracy: 0.9946 - val_loss: 0.0765 - val_accuracy: 0.9834\n",
            "Epoch 60/100\n",
            "48000/48000 [==============================] - 2s 41us/step - loss: 0.0180 - accuracy: 0.9934 - val_loss: 0.0776 - val_accuracy: 0.9833\n",
            "Epoch 61/100\n",
            "48000/48000 [==============================] - 2s 41us/step - loss: 0.0168 - accuracy: 0.9944 - val_loss: 0.0727 - val_accuracy: 0.9843\n",
            "Epoch 62/100\n",
            "48000/48000 [==============================] - 2s 41us/step - loss: 0.0158 - accuracy: 0.9945 - val_loss: 0.0722 - val_accuracy: 0.9851\n",
            "Epoch 63/100\n",
            "48000/48000 [==============================] - 2s 41us/step - loss: 0.0163 - accuracy: 0.9938 - val_loss: 0.0764 - val_accuracy: 0.9835\n",
            "Epoch 64/100\n",
            "48000/48000 [==============================] - 2s 41us/step - loss: 0.0167 - accuracy: 0.9942 - val_loss: 0.0728 - val_accuracy: 0.9848\n",
            "Epoch 65/100\n",
            "48000/48000 [==============================] - 2s 41us/step - loss: 0.0148 - accuracy: 0.9950 - val_loss: 0.0728 - val_accuracy: 0.9856\n",
            "Epoch 66/100\n",
            "48000/48000 [==============================] - 2s 41us/step - loss: 0.0145 - accuracy: 0.9952 - val_loss: 0.0795 - val_accuracy: 0.9837\n",
            "Epoch 67/100\n",
            "48000/48000 [==============================] - 2s 41us/step - loss: 0.0149 - accuracy: 0.9946 - val_loss: 0.0792 - val_accuracy: 0.9849\n",
            "Epoch 68/100\n",
            "48000/48000 [==============================] - 2s 41us/step - loss: 0.0150 - accuracy: 0.9949 - val_loss: 0.0765 - val_accuracy: 0.9837\n",
            "Epoch 69/100\n",
            "48000/48000 [==============================] - 2s 41us/step - loss: 0.0131 - accuracy: 0.9956 - val_loss: 0.0766 - val_accuracy: 0.9843\n",
            "Epoch 70/100\n",
            "48000/48000 [==============================] - 2s 41us/step - loss: 0.0153 - accuracy: 0.9946 - val_loss: 0.0765 - val_accuracy: 0.9846\n",
            "Epoch 71/100\n",
            "48000/48000 [==============================] - 2s 42us/step - loss: 0.0135 - accuracy: 0.9956 - val_loss: 0.0839 - val_accuracy: 0.9835\n",
            "Epoch 72/100\n",
            "48000/48000 [==============================] - 2s 41us/step - loss: 0.0140 - accuracy: 0.9948 - val_loss: 0.0815 - val_accuracy: 0.9840\n",
            "Epoch 73/100\n",
            "48000/48000 [==============================] - 2s 41us/step - loss: 0.0133 - accuracy: 0.9956 - val_loss: 0.0787 - val_accuracy: 0.9840\n",
            "Epoch 74/100\n",
            "48000/48000 [==============================] - 2s 41us/step - loss: 0.0137 - accuracy: 0.9949 - val_loss: 0.0835 - val_accuracy: 0.9831\n",
            "Epoch 75/100\n",
            "48000/48000 [==============================] - 2s 41us/step - loss: 0.0137 - accuracy: 0.9951 - val_loss: 0.0852 - val_accuracy: 0.9827\n",
            "Epoch 76/100\n",
            "48000/48000 [==============================] - 2s 41us/step - loss: 0.0149 - accuracy: 0.9949 - val_loss: 0.0924 - val_accuracy: 0.9836\n",
            "Epoch 77/100\n",
            "48000/48000 [==============================] - 2s 41us/step - loss: 0.0128 - accuracy: 0.9960 - val_loss: 0.0814 - val_accuracy: 0.9837\n",
            "Epoch 78/100\n",
            "48000/48000 [==============================] - 2s 41us/step - loss: 0.0124 - accuracy: 0.9956 - val_loss: 0.0815 - val_accuracy: 0.9841\n",
            "Epoch 79/100\n",
            "48000/48000 [==============================] - 2s 41us/step - loss: 0.0132 - accuracy: 0.9954 - val_loss: 0.0842 - val_accuracy: 0.9840\n",
            "Epoch 80/100\n",
            "48000/48000 [==============================] - 2s 41us/step - loss: 0.0110 - accuracy: 0.9960 - val_loss: 0.0847 - val_accuracy: 0.9836\n",
            "Epoch 81/100\n",
            "48000/48000 [==============================] - 2s 41us/step - loss: 0.0127 - accuracy: 0.9956 - val_loss: 0.0782 - val_accuracy: 0.9846\n",
            "Epoch 82/100\n",
            "48000/48000 [==============================] - 2s 41us/step - loss: 0.0130 - accuracy: 0.9955 - val_loss: 0.0879 - val_accuracy: 0.9830\n",
            "Epoch 83/100\n",
            "48000/48000 [==============================] - 2s 41us/step - loss: 0.0119 - accuracy: 0.9961 - val_loss: 0.0862 - val_accuracy: 0.9840\n",
            "Epoch 84/100\n",
            "48000/48000 [==============================] - 2s 41us/step - loss: 0.0125 - accuracy: 0.9954 - val_loss: 0.0841 - val_accuracy: 0.9835\n",
            "Epoch 85/100\n",
            "48000/48000 [==============================] - 2s 41us/step - loss: 0.0126 - accuracy: 0.9952 - val_loss: 0.0889 - val_accuracy: 0.9833\n",
            "Epoch 86/100\n",
            "48000/48000 [==============================] - 2s 41us/step - loss: 0.0112 - accuracy: 0.9963 - val_loss: 0.0804 - val_accuracy: 0.9843\n",
            "Epoch 87/100\n",
            "48000/48000 [==============================] - 2s 41us/step - loss: 0.0110 - accuracy: 0.9961 - val_loss: 0.0880 - val_accuracy: 0.9845\n",
            "Epoch 88/100\n",
            "48000/48000 [==============================] - 2s 41us/step - loss: 0.0114 - accuracy: 0.9960 - val_loss: 0.0893 - val_accuracy: 0.9844\n",
            "Epoch 89/100\n",
            "48000/48000 [==============================] - 2s 41us/step - loss: 0.0113 - accuracy: 0.9959 - val_loss: 0.0885 - val_accuracy: 0.9844\n",
            "Epoch 90/100\n",
            "48000/48000 [==============================] - 2s 41us/step - loss: 0.0113 - accuracy: 0.9957 - val_loss: 0.0874 - val_accuracy: 0.9849\n",
            "Epoch 91/100\n",
            "48000/48000 [==============================] - 2s 41us/step - loss: 0.0109 - accuracy: 0.9960 - val_loss: 0.0851 - val_accuracy: 0.9848\n",
            "Epoch 92/100\n",
            "48000/48000 [==============================] - 2s 41us/step - loss: 0.0118 - accuracy: 0.9958 - val_loss: 0.0845 - val_accuracy: 0.9849\n",
            "Epoch 93/100\n",
            "48000/48000 [==============================] - 2s 41us/step - loss: 0.0102 - accuracy: 0.9962 - val_loss: 0.0859 - val_accuracy: 0.9843\n",
            "Epoch 94/100\n",
            "48000/48000 [==============================] - 2s 41us/step - loss: 0.0097 - accuracy: 0.9965 - val_loss: 0.0872 - val_accuracy: 0.9845\n",
            "Epoch 95/100\n",
            "48000/48000 [==============================] - 2s 41us/step - loss: 0.0090 - accuracy: 0.9968 - val_loss: 0.0868 - val_accuracy: 0.9853\n",
            "Epoch 96/100\n",
            "48000/48000 [==============================] - 2s 41us/step - loss: 0.0098 - accuracy: 0.9967 - val_loss: 0.0905 - val_accuracy: 0.9839\n",
            "Epoch 97/100\n",
            "48000/48000 [==============================] - 2s 41us/step - loss: 0.0113 - accuracy: 0.9960 - val_loss: 0.0911 - val_accuracy: 0.9843\n",
            "Epoch 98/100\n",
            "48000/48000 [==============================] - 2s 41us/step - loss: 0.0101 - accuracy: 0.9964 - val_loss: 0.0922 - val_accuracy: 0.9844\n",
            "Epoch 99/100\n",
            "48000/48000 [==============================] - 2s 41us/step - loss: 0.0096 - accuracy: 0.9967 - val_loss: 0.0911 - val_accuracy: 0.9833\n",
            "Epoch 100/100\n",
            "48000/48000 [==============================] - 2s 41us/step - loss: 0.0092 - accuracy: 0.9971 - val_loss: 0.0917 - val_accuracy: 0.9847\n"
          ],
          "name": "stdout"
        }
      ]
    },
    {
      "cell_type": "code",
      "metadata": {
        "id": "wMEtqWclqe7_",
        "colab_type": "code",
        "colab": {
          "base_uri": "https://localhost:8080/",
          "height": 573
        },
        "outputId": "fddde5fb-fbc4-4996-fd85-011e8da0e718"
      },
      "source": [
        "#this function will plot accuracy and loss curve\n",
        "import matplotlib.pyplot as plt\n",
        "\n",
        "def plot_curve(train,val,string1,location):\n",
        "  plt.plot(train,'b-')\n",
        "  plt.plot(val,'g-')\n",
        "  plt.title('model '+string1)\n",
        "  plt.ylabel(string1)\n",
        "  plt.xlabel('epoch')\n",
        "  plt.legend(['train', 'val'], loc=location)\n",
        "  plt.show()\n",
        "\n",
        "'upper left'\n",
        "plot_curve(history.history['accuracy'],history.history['val_accuracy'],'Accuracy','lower right')\n",
        "plot_curve(history.history['loss'],history.history['val_loss'],'Loss','upper right')"
      ],
      "execution_count": 29,
      "outputs": [
        {
          "output_type": "display_data",
          "data": {
            "image/png": "[encoded data removed]",
            "text/plain": [
              "<Figure size 432x288 with 1 Axes>"
            ]
          },
          "metadata": {
            "tags": [],
            "needs_background": "light"
          }
        },
        {
          "output_type": "display_data",
          "data": {
            "image/png": "[encoded data removed]",
            "text/plain": [
              "<Figure size 432x288 with 1 Axes>"
            ]
          },
          "metadata": {
            "tags": [],
            "needs_background": "light"
          }
        }
      ]
    },
    {
      "cell_type": "markdown",
      "metadata": {
        "id": "mxxVtR4O0Srw",
        "colab_type": "text"
      },
      "source": [
        "# **Training with callbacks**"
      ]
    },
    {
      "cell_type": "code",
      "metadata": {
        "id": "Khn1fCZ1uSD9",
        "colab_type": "code",
        "colab": {}
      },
      "source": [
        "#CNN model\n",
        "model = Sequential()\n",
        "model.add(Convolution2D(32,3,data_format='channels_last',activation='relu',input_shape=(28,28,1)))\n",
        "model.add(MaxPooling2D(pool_size=(2,2)))\n",
        "model.add(Flatten())\n",
        "model.add(Dense(32))\n",
        "model.add(Dropout(0.5))\n",
        "model.add(Dense(10))   \n",
        "model.add(Activation('softmax'))\n",
        "\n",
        "\n",
        "model.compile(loss='categorical_crossentropy', optimizer = 'adam', metrics = ['accuracy'])"
      ],
      "execution_count": 0,
      "outputs": []
    },
    {
      "cell_type": "code",
      "metadata": {
        "id": "3ZAcUI2sm9HF",
        "colab_type": "code",
        "colab": {
          "base_uri": "https://localhost:8080/",
          "height": 1000
        },
        "outputId": "64b9b301-f49a-4268-d01e-3a7ff464bf3e"
      },
      "source": [
        "#Training with callbacks\n",
        "my_callbacks = [\n",
        "    keras.callbacks.EarlyStopping(patience=7,monitor='val_loss'),\n",
        "    keras.callbacks.ModelCheckpoint(filepath='best_model.h5', save_best_only=True),\n",
        "]\n",
        "\n",
        "#training\n",
        "history = model.fit(x_train,y_train,validation_split=0.2 , batch_size=256,epochs=100,callbacks=my_callbacks)"
      ],
      "execution_count": 17,
      "outputs": [
        {
          "output_type": "stream",
          "text": [
            "Train on 48000 samples, validate on 12000 samples\n",
            "Epoch 1/100\n",
            "48000/48000 [==============================] - 8s 163us/step - loss: 0.5778 - accuracy: 0.8281 - val_loss: 0.1904 - val_accuracy: 0.9464\n",
            "Epoch 2/100\n",
            "48000/48000 [==============================] - 1s 31us/step - loss: 0.2366 - accuracy: 0.9325 - val_loss: 0.1137 - val_accuracy: 0.9682\n",
            "Epoch 3/100\n",
            "48000/48000 [==============================] - 1s 30us/step - loss: 0.1686 - accuracy: 0.9519 - val_loss: 0.0884 - val_accuracy: 0.9745\n",
            "Epoch 4/100\n",
            "48000/48000 [==============================] - 1s 30us/step - loss: 0.1413 - accuracy: 0.9589 - val_loss: 0.0815 - val_accuracy: 0.9771\n",
            "Epoch 5/100\n",
            "48000/48000 [==============================] - 1s 30us/step - loss: 0.1230 - accuracy: 0.9642 - val_loss: 0.0727 - val_accuracy: 0.9789\n",
            "Epoch 6/100\n",
            "48000/48000 [==============================] - 1s 30us/step - loss: 0.1133 - accuracy: 0.9670 - val_loss: 0.0793 - val_accuracy: 0.9770\n",
            "Epoch 7/100\n",
            "48000/48000 [==============================] - 1s 30us/step - loss: 0.1004 - accuracy: 0.9714 - val_loss: 0.0665 - val_accuracy: 0.9810\n",
            "Epoch 8/100\n",
            "48000/48000 [==============================] - 1s 29us/step - loss: 0.0957 - accuracy: 0.9724 - val_loss: 0.0634 - val_accuracy: 0.9823\n",
            "Epoch 9/100\n",
            "48000/48000 [==============================] - 1s 30us/step - loss: 0.0893 - accuracy: 0.9732 - val_loss: 0.0640 - val_accuracy: 0.9823\n",
            "Epoch 10/100\n",
            "48000/48000 [==============================] - 1s 30us/step - loss: 0.0842 - accuracy: 0.9753 - val_loss: 0.0646 - val_accuracy: 0.9819\n",
            "Epoch 11/100\n",
            "48000/48000 [==============================] - 1s 30us/step - loss: 0.0817 - accuracy: 0.9757 - val_loss: 0.0609 - val_accuracy: 0.9828\n",
            "Epoch 12/100\n",
            "48000/48000 [==============================] - 1s 31us/step - loss: 0.0771 - accuracy: 0.9773 - val_loss: 0.0614 - val_accuracy: 0.9829\n",
            "Epoch 13/100\n",
            "48000/48000 [==============================] - 1s 30us/step - loss: 0.0725 - accuracy: 0.9783 - val_loss: 0.0601 - val_accuracy: 0.9832\n",
            "Epoch 14/100\n",
            "48000/48000 [==============================] - 1s 30us/step - loss: 0.0725 - accuracy: 0.9787 - val_loss: 0.0606 - val_accuracy: 0.9833\n",
            "Epoch 15/100\n",
            "48000/48000 [==============================] - 1s 30us/step - loss: 0.0666 - accuracy: 0.9795 - val_loss: 0.0591 - val_accuracy: 0.9829\n",
            "Epoch 16/100\n",
            "48000/48000 [==============================] - 1s 30us/step - loss: 0.0648 - accuracy: 0.9806 - val_loss: 0.0595 - val_accuracy: 0.9830\n",
            "Epoch 17/100\n",
            "48000/48000 [==============================] - 1s 29us/step - loss: 0.0633 - accuracy: 0.9801 - val_loss: 0.0613 - val_accuracy: 0.9823\n",
            "Epoch 18/100\n",
            "48000/48000 [==============================] - 1s 30us/step - loss: 0.0595 - accuracy: 0.9815 - val_loss: 0.0626 - val_accuracy: 0.9827\n",
            "Epoch 19/100\n",
            "48000/48000 [==============================] - 1s 30us/step - loss: 0.0592 - accuracy: 0.9822 - val_loss: 0.0582 - val_accuracy: 0.9829\n",
            "Epoch 20/100\n",
            "48000/48000 [==============================] - 1s 30us/step - loss: 0.0540 - accuracy: 0.9839 - val_loss: 0.0598 - val_accuracy: 0.9834\n",
            "Epoch 21/100\n",
            "48000/48000 [==============================] - 1s 29us/step - loss: 0.0523 - accuracy: 0.9842 - val_loss: 0.0586 - val_accuracy: 0.9831\n",
            "Epoch 22/100\n",
            "48000/48000 [==============================] - 1s 29us/step - loss: 0.0533 - accuracy: 0.9827 - val_loss: 0.0599 - val_accuracy: 0.9826\n",
            "Epoch 23/100\n",
            "48000/48000 [==============================] - 1s 29us/step - loss: 0.0497 - accuracy: 0.9845 - val_loss: 0.0588 - val_accuracy: 0.9842\n",
            "Epoch 24/100\n",
            "48000/48000 [==============================] - 1s 29us/step - loss: 0.0486 - accuracy: 0.9848 - val_loss: 0.0574 - val_accuracy: 0.9844\n",
            "Epoch 25/100\n",
            "48000/48000 [==============================] - 1s 30us/step - loss: 0.0467 - accuracy: 0.9853 - val_loss: 0.0614 - val_accuracy: 0.9839\n",
            "Epoch 26/100\n",
            "48000/48000 [==============================] - 1s 30us/step - loss: 0.0449 - accuracy: 0.9860 - val_loss: 0.0642 - val_accuracy: 0.9835\n",
            "Epoch 27/100\n",
            "48000/48000 [==============================] - 1s 29us/step - loss: 0.0434 - accuracy: 0.9868 - val_loss: 0.0643 - val_accuracy: 0.9822\n",
            "Epoch 28/100\n",
            "48000/48000 [==============================] - 1s 29us/step - loss: 0.0414 - accuracy: 0.9868 - val_loss: 0.0647 - val_accuracy: 0.9831\n",
            "Epoch 29/100\n",
            "48000/48000 [==============================] - 1s 29us/step - loss: 0.0394 - accuracy: 0.9875 - val_loss: 0.0598 - val_accuracy: 0.9841\n",
            "Epoch 30/100\n",
            "48000/48000 [==============================] - 1s 30us/step - loss: 0.0393 - accuracy: 0.9872 - val_loss: 0.0644 - val_accuracy: 0.9830\n",
            "Epoch 31/100\n",
            "48000/48000 [==============================] - 1s 29us/step - loss: 0.0379 - accuracy: 0.9878 - val_loss: 0.0613 - val_accuracy: 0.9835\n"
          ],
          "name": "stdout"
        }
      ]
    },
    {
      "cell_type": "code",
      "metadata": {
        "id": "kCJkJH9Hd3zV",
        "colab_type": "code",
        "colab": {}
      },
      "source": [
        "model.load_weights('best_model.h5')"
      ],
      "execution_count": 0,
      "outputs": []
    },
    {
      "cell_type": "code",
      "metadata": {
        "id": "wCOd6L_Qtv7V",
        "colab_type": "code",
        "colab": {
          "base_uri": "https://localhost:8080/",
          "height": 69
        },
        "outputId": "c83b9222-b9ac-4b69-a9a5-2c5ff8d325b7"
      },
      "source": [
        "loss,acc = model.evaluate(x_test,y_test)\n",
        "print(\"Testing Accuracy: \",round(acc*100,2))\n",
        "print(\"Testing Loss: \",round(loss,2))"
      ],
      "execution_count": 21,
      "outputs": [
        {
          "output_type": "stream",
          "text": [
            "10000/10000 [==============================] - 1s 69us/step\n",
            "Testing Accuracy:  98.44\n",
            "Testing Loss:  0.05\n"
          ],
          "name": "stdout"
        }
      ]
    },
    {
      "cell_type": "code",
      "metadata": {
        "id": "KzhMakh-16YB",
        "colab_type": "code",
        "colab": {
          "base_uri": "https://localhost:8080/",
          "height": 573
        },
        "outputId": "31297828-eed5-4189-d58b-754c2c3e87c6"
      },
      "source": [
        "#this function will plot accuracy and loss curve\n",
        "import matplotlib.pyplot as plt\n",
        "\n",
        "def plot_curve(train,val,string1,location):\n",
        "  plt.plot(train,'b-')\n",
        "  plt.plot(val,'g-')\n",
        "  plt.title('model '+string1)\n",
        "  plt.ylabel(string1)\n",
        "  plt.xlabel('epoch')\n",
        "  plt.legend(['train', 'val'], loc=location)\n",
        "  plt.show()\n",
        "\n",
        "'upper left'\n",
        "plot_curve(history.history['accuracy'],history.history['val_accuracy'],'Accuracy','lower right')\n",
        "plot_curve(history.history['loss'],history.history['val_loss'],'Loss','upper right')"
      ],
      "execution_count": 19,
      "outputs": [
        {
          "output_type": "display_data",
          "data": {
            "image/png": "[encoded data removed]",
            "text/plain": [
              "<Figure size 432x288 with 1 Axes>"
            ]
          },
          "metadata": {
            "tags": [],
            "needs_background": "light"
          }
        },
        {
          "output_type": "display_data",
          "data": {
            "image/png": "[encoded data removed]",
            "text/plain": [
              "<Figure size 432x288 with 1 Axes>"
            ]
          },
          "metadata": {
            "tags": [],
            "needs_background": "light"
          }
        }
      ]
    }
  ]
}